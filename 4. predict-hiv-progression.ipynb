{
 "cells": [
  {
   "cell_type": "markdown",
   "metadata": {},
   "source": [
    "## Predicting HIV Progression\n",
    "\n",
    "About the competition- <br>\n",
    "<br>\n",
    "This contest focuses on using the nucleotide sequence of the Reverse Transcriptase (RT) and Protease (PR) to predict the patient's short-term progression. For the non-Biologist: the nucleotide sequence is the blueprint of the protein, which is the workhorse of the cell.  The RT enzyme is responsible for copying the HIV-1 genome within the cell. As the HIV-1 genome is translated it is in one long string of amino acids; the PR protein cuts this string into the numerous functional units - required by the HIV life-cycle. These are the proteins that are targeted by most HIV-1 drugs since they are mostly unique to the HIV-1 life-cycle.  <br>\n",
    "Along with the HIV-1 viral sequences I have provided the two common clinical indicators used to determine the \"general health\" of an HIV-1 infected individual: Viral Load and CD4+ cell counts.  The CD4+ cell count is an estimate of the number of white-blood-cells in 1 mL of blood while the viral load is the number of viral particles in that same mL.  In this dataset the viral load is represented in a log-10 scale.  The higher the number the more \"active\" the immune system. Paradoxically higher CD4 counts imply both a healthier individual but also a higher amount of viral reproduction (the virus primarily replicates in CD4 cells)."
   ]
  },
  {
   "cell_type": "code",
   "execution_count": 1,
   "metadata": {
    "_cell_guid": "b1076dfc-b9ad-4769-8c92-a6c4dae69d19",
    "_uuid": "8f2839f25d086af736a60e9eeb907d3b93b6e0e5",
    "execution": {
     "iopub.execute_input": "2021-02-15T17:32:09.235041Z",
     "iopub.status.busy": "2021-02-15T17:32:09.233941Z",
     "iopub.status.idle": "2021-02-15T17:32:09.240501Z",
     "shell.execute_reply": "2021-02-15T17:32:09.239421Z"
    },
    "papermill": {
     "duration": 0.022886,
     "end_time": "2021-02-15T17:32:09.240686",
     "exception": false,
     "start_time": "2021-02-15T17:32:09.217800",
     "status": "completed"
    },
    "tags": []
   },
   "outputs": [
    {
     "name": "stdout",
     "output_type": "stream",
     "text": [
      "/kaggle/input/hivprogression/training_data.csv\n",
      "/kaggle/input/hivprogression/hivprogression_solution.csv\n",
      "/kaggle/input/hivprogression/test_data.csv\n"
     ]
    }
   ],
   "source": [
    "# This Python 3 environment comes with many helpful analytics libraries installed\n",
    "# It is defined by the kaggle/python Docker image: https://github.com/kaggle/docker-python\n",
    "# For example, here's several helpful packages to load\n",
    "\n",
    "import numpy as np #library for working with arrays\n",
    "import pandas as pd #library for data analysis and manupulation\n",
    "\n",
    "# Input data files are available in the read-only \"../input/\" directory\n",
    "# For example, running this (by clicking run or pressing Shift+Enter) will list all files under the input directory\n",
    "\n",
    "#os is a library for creating and removing a directory (folder), fetching its contents, changing and identifying the current directory, etc.\n",
    "import os\n",
    "#for loop iterates over each tuple yielded by os.walk().\n",
    "for dirname, _, filenames in os.walk('/kaggle/input'):# yields a tuple of three values for each directory in the directory tree rooted at /kaggle/input\n",
    "    for filename in filenames: #iterates over each filename in the list of filenames\n",
    "        print(os.path.join(dirname, filename))#concatenates the directory path and the filename to form the full path to the file\n",
    "\n",
    "# You can write up to 5GB to the current directory (/kaggle/working/) that gets preserved as output when you create a version using \"Save & Run All\" \n",
    "# You can also write temporary files to /kaggle/temp/, but they won't be saved outside of the current session"
   ]
  },
  {
   "cell_type": "code",
   "execution_count": 2,
   "metadata": {
    "_cell_guid": "79c7e3d0-c299-4dcb-8224-4455121ee9b0",
    "_uuid": "d629ff2d2480ee46fbb7e2d37f6b5fab8052498a",
    "execution": {
     "iopub.execute_input": "2021-02-15T17:32:09.269273Z",
     "iopub.status.busy": "2021-02-15T17:32:09.268525Z",
     "iopub.status.idle": "2021-02-15T17:32:09.338389Z",
     "shell.execute_reply": "2021-02-15T17:32:09.337799Z"
    },
    "papermill": {
     "duration": 0.08698,
     "end_time": "2021-02-15T17:32:09.338519",
     "exception": false,
     "start_time": "2021-02-15T17:32:09.251539",
     "status": "completed"
    },
    "tags": []
   },
   "outputs": [],
   "source": [
    "import pandas as pd\n",
    "import numpy as np\n",
    "train_data = pd.read_csv('../input/hivprogression/training_data.csv') #reaading the training dataset using pandas library\n",
    "test_data = pd.read_csv('../input/hivprogression/test_data.csv') #reading the test dataset using pandas library\n"
   ]
  },
  {
   "cell_type": "code",
   "execution_count": 3,
   "metadata": {
    "execution": {
     "iopub.execute_input": "2021-02-15T17:32:09.367043Z",
     "iopub.status.busy": "2021-02-15T17:32:09.366052Z",
     "iopub.status.idle": "2021-02-15T17:32:09.383462Z",
     "shell.execute_reply": "2021-02-15T17:32:09.383966Z"
    },
    "papermill": {
     "duration": 0.036239,
     "end_time": "2021-02-15T17:32:09.384114",
     "exception": false,
     "start_time": "2021-02-15T17:32:09.347875",
     "status": "completed"
    },
    "tags": []
   },
   "outputs": [
    {
     "data": {
      "text/html": [
       "<div>\n",
       "<style scoped>\n",
       "    .dataframe tbody tr th:only-of-type {\n",
       "        vertical-align: middle;\n",
       "    }\n",
       "\n",
       "    .dataframe tbody tr th {\n",
       "        vertical-align: top;\n",
       "    }\n",
       "\n",
       "    .dataframe thead th {\n",
       "        text-align: right;\n",
       "    }\n",
       "</style>\n",
       "<table border=\"1\" class=\"dataframe\">\n",
       "  <thead>\n",
       "    <tr style=\"text-align: right;\">\n",
       "      <th></th>\n",
       "      <th>PatientID</th>\n",
       "      <th>Resp</th>\n",
       "      <th>PR Seq</th>\n",
       "      <th>RT Seq</th>\n",
       "      <th>VL-t0</th>\n",
       "      <th>CD4-t0</th>\n",
       "    </tr>\n",
       "  </thead>\n",
       "  <tbody>\n",
       "    <tr>\n",
       "      <th>0</th>\n",
       "      <td>1</td>\n",
       "      <td>0</td>\n",
       "      <td>CCTCAAATCACTCTTTGGCAACGACCCCTCGTCCCAATAAGGATAG...</td>\n",
       "      <td>CCCATTAGTCCTATTGAAACTGTACCAGTAAAGCTAAAGCCAGGAA...</td>\n",
       "      <td>4.3</td>\n",
       "      <td>145</td>\n",
       "    </tr>\n",
       "    <tr>\n",
       "      <th>1</th>\n",
       "      <td>2</td>\n",
       "      <td>0</td>\n",
       "      <td>CCTCAAATCACTCTTTGGCAACGACCCCTCGTCGCAATAAAGATAG...</td>\n",
       "      <td>CCCATTAGTCCTATTGAAACTGTACCAGTAAAATTAAAGCCAGGAA...</td>\n",
       "      <td>3.6</td>\n",
       "      <td>224</td>\n",
       "    </tr>\n",
       "    <tr>\n",
       "      <th>2</th>\n",
       "      <td>3</td>\n",
       "      <td>0</td>\n",
       "      <td>CCTCAAATCACTCTTTGGCAACGACCCCTCGTCGCAATAAAGGTAG...</td>\n",
       "      <td>CCCATTAGTCCTATTGAAACTGTACCAGTAAAATTAAAGCCAGGAA...</td>\n",
       "      <td>3.2</td>\n",
       "      <td>1017</td>\n",
       "    </tr>\n",
       "    <tr>\n",
       "      <th>3</th>\n",
       "      <td>4</td>\n",
       "      <td>0</td>\n",
       "      <td>CCTCAAATCACTCTTTGGCAACGACCCCTCGTCGCAATAAGGATAG...</td>\n",
       "      <td>CCCATTAGTCCTATTGAAACTGTACCAGTAAAATTAAAGCCAGGAA...</td>\n",
       "      <td>5.7</td>\n",
       "      <td>206</td>\n",
       "    </tr>\n",
       "    <tr>\n",
       "      <th>4</th>\n",
       "      <td>5</td>\n",
       "      <td>0</td>\n",
       "      <td>CCTCAAATCACTCTTTGGCAACGACCCCTCGTCGCAGTAAAGATAG...</td>\n",
       "      <td>CCCATTAGTCCTATTGAAACTGTACCAGTAAAATTAAAGCCAGGAA...</td>\n",
       "      <td>3.5</td>\n",
       "      <td>572</td>\n",
       "    </tr>\n",
       "  </tbody>\n",
       "</table>\n",
       "</div>"
      ],
      "text/plain": [
       "   PatientID  Resp                                             PR Seq  \\\n",
       "0          1     0  CCTCAAATCACTCTTTGGCAACGACCCCTCGTCCCAATAAGGATAG...   \n",
       "1          2     0  CCTCAAATCACTCTTTGGCAACGACCCCTCGTCGCAATAAAGATAG...   \n",
       "2          3     0  CCTCAAATCACTCTTTGGCAACGACCCCTCGTCGCAATAAAGGTAG...   \n",
       "3          4     0  CCTCAAATCACTCTTTGGCAACGACCCCTCGTCGCAATAAGGATAG...   \n",
       "4          5     0  CCTCAAATCACTCTTTGGCAACGACCCCTCGTCGCAGTAAAGATAG...   \n",
       "\n",
       "                                              RT Seq  VL-t0  CD4-t0  \n",
       "0  CCCATTAGTCCTATTGAAACTGTACCAGTAAAGCTAAAGCCAGGAA...    4.3     145  \n",
       "1  CCCATTAGTCCTATTGAAACTGTACCAGTAAAATTAAAGCCAGGAA...    3.6     224  \n",
       "2  CCCATTAGTCCTATTGAAACTGTACCAGTAAAATTAAAGCCAGGAA...    3.2    1017  \n",
       "3  CCCATTAGTCCTATTGAAACTGTACCAGTAAAATTAAAGCCAGGAA...    5.7     206  \n",
       "4  CCCATTAGTCCTATTGAAACTGTACCAGTAAAATTAAAGCCAGGAA...    3.5     572  "
      ]
     },
     "execution_count": 3,
     "metadata": {},
     "output_type": "execute_result"
    }
   ],
   "source": [
    "train_data.head() #printing the first five rows of the training dataset"
   ]
  },
  {
   "cell_type": "code",
   "execution_count": 4,
   "metadata": {
    "execution": {
     "iopub.execute_input": "2021-02-15T17:32:09.409416Z",
     "iopub.status.busy": "2021-02-15T17:32:09.408625Z",
     "iopub.status.idle": "2021-02-15T17:32:10.533079Z",
     "shell.execute_reply": "2021-02-15T17:32:10.532500Z"
    },
    "papermill": {
     "duration": 1.139078,
     "end_time": "2021-02-15T17:32:10.533192",
     "exception": false,
     "start_time": "2021-02-15T17:32:09.394114",
     "status": "completed"
    },
    "tags": []
   },
   "outputs": [
    {
     "data": {
      "text/plain": [
       "<matplotlib.axes._subplots.AxesSubplot at 0x7fc0c44c9cd0>"
      ]
     },
     "execution_count": 4,
     "metadata": {},
     "output_type": "execute_result"
    },
    {
     "data": {
      "image/png": "[encoded data removed]",
      "text/plain": [
       "<Figure size 432x288 with 1 Axes>"
      ]
     },
     "metadata": {
      "needs_background": "light"
     },
     "output_type": "display_data"
    }
   ],
   "source": [
    "import seaborn as sns #high-level interface for data visualization\n",
    "sns.countplot(train_data['Resp']) #plotting the resp column using count plot \n",
    "#count plot showa the counts of observations in each categorical bin using bars"
   ]
  },
  {
   "cell_type": "code",
   "execution_count": 5,
   "metadata": {
    "execution": {
     "iopub.execute_input": "2021-02-15T17:32:10.563128Z",
     "iopub.status.busy": "2021-02-15T17:32:10.562378Z",
     "iopub.status.idle": "2021-02-15T17:32:10.771528Z",
     "shell.execute_reply": "2021-02-15T17:32:10.770896Z"
    },
    "papermill": {
     "duration": 0.225268,
     "end_time": "2021-02-15T17:32:10.771647",
     "exception": false,
     "start_time": "2021-02-15T17:32:10.546379",
     "status": "completed"
    },
    "tags": []
   },
   "outputs": [
    {
     "data": {
      "text/plain": [
       "<matplotlib.axes._subplots.AxesSubplot at 0x7fc0c439a3d0>"
      ]
     },
     "execution_count": 5,
     "metadata": {},
     "output_type": "execute_result"
    },
    {
     "data": {
      "image/png": "[encoded data removed]",
      "text/plain": [
       "<Figure size 432x288 with 2 Axes>"
      ]
     },
     "metadata": {
      "needs_background": "light"
     },
     "output_type": "display_data"
    }
   ],
   "source": [
    "corr = train_data.corr() #finding the correlation between each regressors in the training dataset\n",
    "sns.heatmap(corr) #plotting the correlation matrix of the training data"
   ]
  },
  {
   "cell_type": "code",
   "execution_count": 6,
   "metadata": {
    "execution": {
     "iopub.execute_input": "2021-02-15T17:32:10.804070Z",
     "iopub.status.busy": "2021-02-15T17:32:10.803301Z",
     "iopub.status.idle": "2021-02-15T17:32:10.917551Z",
     "shell.execute_reply": "2021-02-15T17:32:10.918050Z"
    },
    "papermill": {
     "duration": 0.133471,
     "end_time": "2021-02-15T17:32:10.918200",
     "exception": false,
     "start_time": "2021-02-15T17:32:10.784729",
     "status": "completed"
    },
    "tags": []
   },
   "outputs": [],
   "source": [
    "from sklearn.model_selection import train_test_split #library for splitting the data into train and test set\n",
    "X = train_data[['VL-t0','CD4-t0']] #taking only the columns 'VL-t0' and 'CD4-t0' as independent variable\n",
    "Y = train_data['Resp'].values #Taking the column 'Resp' as dependent variable\n",
    "x_train, x_test, y_train, y_test = train_test_split(X, Y, test_size=0.3, random_state=2) \n",
    "#splitting the training and test data with the ratio of 70:30 by fixing the random state as 2"
   ]
  },
  {
   "cell_type": "code",
   "execution_count": null,
   "metadata": {},
   "outputs": [],
   "source": [
    "#The KNeighborsClassifier is a type of classification algorithm that predicts the class of a new observation \n",
    "#by finding the k nearest neighbors to that observation in the training data, and then using a majority vote \n",
    "#among the k neighbors to determine the class of the new observation."
   ]
  },
  {
   "cell_type": "code",
   "execution_count": null,
   "metadata": {},
   "outputs": [],
   "source": [
    "#Accuracy score is used to measure the model performance in terms of measuring the ratio of sum of true positive and \n",
    "#true negatives out of all the predictions made."
   ]
  },
  {
   "cell_type": "code",
   "execution_count": 7,
   "metadata": {
    "execution": {
     "iopub.execute_input": "2021-02-15T17:32:10.950755Z",
     "iopub.status.busy": "2021-02-15T17:32:10.950044Z",
     "iopub.status.idle": "2021-02-15T17:32:11.109831Z",
     "shell.execute_reply": "2021-02-15T17:32:11.110663Z"
    },
    "papermill": {
     "duration": 0.179907,
     "end_time": "2021-02-15T17:32:11.110813",
     "exception": false,
     "start_time": "2021-02-15T17:32:10.930906",
     "status": "completed"
    },
    "tags": []
   },
   "outputs": [
    {
     "name": "stdout",
     "output_type": "stream",
     "text": [
      "KNN 0.7633333333333333\n"
     ]
    }
   ],
   "source": [
    "from sklearn.neighbors import KNeighborsClassifier\n",
    "from sklearn.metrics import accuracy_score\n",
    "\n",
    "# Creating a k-nearest neighbors classifier\n",
    "knn_model = KNeighborsClassifier()\n",
    "\n",
    "# Train the classifier on the training set\n",
    "knn_model.fit(x_train, y_train)\n",
    "\n",
    "# Using knn classifier to predict labels for the test set\n",
    "predicted = knn_model.predict(x_test)\n",
    "print('KNN', accuracy_score(predicted, y_test))"
   ]
  },
  {
   "cell_type": "code",
   "execution_count": null,
   "metadata": {},
   "outputs": [],
   "source": [
    "#The RandomForestClassifier is a type of ensemble learning method that combines multiple decision trees to make predictions. \n",
    "#In a random forest, each tree is trained on a subset of the training data, and a random subset of the features is selected for each tree. \n",
    "#During prediction, each tree in the forest makes a prediction, and the final prediction is determined by a majority vote among the trees."
   ]
  },
  {
   "cell_type": "code",
   "execution_count": 8,
   "metadata": {
    "execution": {
     "iopub.execute_input": "2021-02-15T17:32:11.143521Z",
     "iopub.status.busy": "2021-02-15T17:32:11.142848Z",
     "iopub.status.idle": "2021-02-15T17:32:11.443589Z",
     "shell.execute_reply": "2021-02-15T17:32:11.442989Z"
    },
    "papermill": {
     "duration": 0.319287,
     "end_time": "2021-02-15T17:32:11.443704",
     "exception": false,
     "start_time": "2021-02-15T17:32:11.124417",
     "status": "completed"
    },
    "tags": []
   },
   "outputs": [
    {
     "name": "stdout",
     "output_type": "stream",
     "text": [
      "Random Forest 0.74\n"
     ]
    }
   ],
   "source": [
    "from sklearn.ensemble import RandomForestClassifier\n",
    "\n",
    "# Creating a Random forest classifier\n",
    "rfc_model = RandomForestClassifier()\n",
    "\n",
    "# Train the classifier on the training set\n",
    "rfc_model.fit(x_train, y_train)\n",
    "\n",
    "# Using random forest classifier to predict labels for the test set\n",
    "predicted = rfc_model.predict(x_test)\n",
    "print('Random Forest', accuracy_score(y_test, predicted))"
   ]
  },
  {
   "cell_type": "code",
   "execution_count": null,
   "metadata": {},
   "outputs": [],
   "source": [
    "#The SVC (Support Vector Classifier) is a type of SVM (Support Vector Machine) algorithm that is used for classification tasks. \n",
    "#SVMs are a class of supervised learning algorithms that can be used for both classification and regression tasks. \n",
    "#In SVMs, the goal is to find the hyperplane that best separates the different classes. The SVC algorithm in scikit-learn uses a\n",
    "#variant of the SVM algorithm that allows for non-linearly separable data by using kernel functions."
   ]
  },
  {
   "cell_type": "code",
   "execution_count": 9,
   "metadata": {
    "execution": {
     "iopub.execute_input": "2021-02-15T17:32:11.479621Z",
     "iopub.status.busy": "2021-02-15T17:32:11.478635Z",
     "iopub.status.idle": "2021-02-15T17:32:11.508861Z",
     "shell.execute_reply": "2021-02-15T17:32:11.509356Z"
    },
    "papermill": {
     "duration": 0.052244,
     "end_time": "2021-02-15T17:32:11.509514",
     "exception": false,
     "start_time": "2021-02-15T17:32:11.457270",
     "status": "completed"
    },
    "tags": []
   },
   "outputs": [
    {
     "name": "stdout",
     "output_type": "stream",
     "text": [
      "SVM 0.7866666666666666\n"
     ]
    }
   ],
   "source": [
    "from sklearn.svm import SVC\n",
    "\n",
    "#Creating an support vector classifier model\n",
    "svc_model = SVC(gamma='auto')\n",
    "\n",
    "#Training the classifier model on training dataset\n",
    "svc_model.fit(x_train, y_train)\n",
    "\n",
    "#Using support vector classifier to predict labels for the test set\n",
    "predicted = svc_model.predict(x_test)\n",
    "print('SVM', accuracy_score(y_test, predicted))"
   ]
  },
  {
   "cell_type": "code",
   "execution_count": null,
   "metadata": {},
   "outputs": [],
   "source": [
    "#Gradient boosting is a popular machine learning technique that combines multiple weak models to create a strong model that can \n",
    "#make accurate predictions. The XGBClassifier is a specific implementation of gradient boosting for classification problems."
   ]
  },
  {
   "cell_type": "code",
   "execution_count": 10,
   "metadata": {
    "execution": {
     "iopub.execute_input": "2021-02-15T17:32:11.543490Z",
     "iopub.status.busy": "2021-02-15T17:32:11.542778Z",
     "iopub.status.idle": "2021-02-15T17:32:12.498850Z",
     "shell.execute_reply": "2021-02-15T17:32:12.500073Z"
    },
    "papermill": {
     "duration": 0.977062,
     "end_time": "2021-02-15T17:32:12.500419",
     "exception": false,
     "start_time": "2021-02-15T17:32:11.523357",
     "status": "completed"
    },
    "tags": []
   },
   "outputs": [
    {
     "name": "stdout",
     "output_type": "stream",
     "text": [
      "XGBoost 0.7266666666666667\n"
     ]
    }
   ],
   "source": [
    "from xgboost import XGBClassifier\n",
    "\n",
    "#creating Xgboost model\n",
    "xgb_model = XGBClassifier()\n",
    "#training the model on training set\n",
    "xgb_model.fit(x_train, y_train)\n",
    "#predicting the labels for the test set using xgboost classifier\n",
    "predicted = xgb_model.predict(x_test)\n",
    "print('XGBoost', accuracy_score(y_test, predicted))"
   ]
  },
  {
   "cell_type": "code",
   "execution_count": 11,
   "metadata": {
    "execution": {
     "iopub.execute_input": "2021-02-15T17:32:12.548625Z",
     "iopub.status.busy": "2021-02-15T17:32:12.547823Z",
     "iopub.status.idle": "2021-02-15T17:32:12.565114Z",
     "shell.execute_reply": "2021-02-15T17:32:12.565869Z"
    },
    "papermill": {
     "duration": 0.04603,
     "end_time": "2021-02-15T17:32:12.566036",
     "exception": false,
     "start_time": "2021-02-15T17:32:12.520006",
     "status": "completed"
    },
    "tags": []
   },
   "outputs": [],
   "source": [
    "#Now predicting for validation set by extracting the columns 'VL-t0' and 'CD4-t0'\n",
    "test = test_data[['VL-t0','CD4-t0']]\n",
    "predict = svc_model.predict(test)"
   ]
  },
  {
   "cell_type": "code",
   "execution_count": 12,
   "metadata": {
    "execution": {
     "iopub.execute_input": "2021-02-15T17:32:12.610981Z",
     "iopub.status.busy": "2021-02-15T17:32:12.610166Z",
     "iopub.status.idle": "2021-02-15T17:32:12.851770Z",
     "shell.execute_reply": "2021-02-15T17:32:12.852328Z"
    },
    "papermill": {
     "duration": 0.267563,
     "end_time": "2021-02-15T17:32:12.852469",
     "exception": false,
     "start_time": "2021-02-15T17:32:12.584906",
     "status": "completed"
    },
    "tags": []
   },
   "outputs": [],
   "source": [
    "#creating a dataframe with two columns 'PatientID' and 'ResponderStatus'  \n",
    "#The PatientID column contains a sequential range of integers from 1 to the number of rows in the predict array (inclusive), \n",
    "#and the ResponderStatus column contains the values in the predict array.\n",
    "\n",
    "submissions = pd.DataFrame({\n",
    "    'PatientID': np.arange(1,predict.shape[0]+1),\n",
    "    'ResponderStatus': predict\n",
    "})\n",
    "submissions.to_csv('submission.csv', index=False)"
   ]
  }
 ],
 "metadata": {
  "kernelspec": {
   "display_name": "Python 3",
   "language": "python",
   "name": "python3"
  },
  "language_info": {
   "codemirror_mode": {
    "name": "ipython",
    "version": 3
   },
   "file_extension": ".py",
   "mimetype": "text/x-python",
   "name": "python",
   "nbconvert_exporter": "python",
   "pygments_lexer": "ipython3",
   "version": "3.7.6"
  },
  "papermill": {
   "duration": 8.225975,
   "end_time": "2021-02-15T17:32:12.975585",
   "environment_variables": {},
   "exception": null,
   "input_path": "__notebook__.ipynb",
   "output_path": "__notebook__.ipynb",
   "parameters": {},
   "start_time": "2021-02-15T17:32:04.749610",
   "version": "2.1.0"
  }
 },
 "nbformat": 4,
 "nbformat_minor": 4
}
