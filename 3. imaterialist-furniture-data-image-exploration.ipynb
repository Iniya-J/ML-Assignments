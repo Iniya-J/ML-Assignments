{
 "cells": [
  {
   "cell_type": "markdown",
   "metadata": {
    "_cell_guid": "1015f635-9daf-466d-a920-266cb6040c19",
    "_uuid": "3e7ab632dc6a3cf3d2a27af73e32ab23fc7bdfc6"
   },
   "source": [
    "# Exploration of iMaterialist(Furniture) Dataset\n",
    "\n",
    "This notebook is about simple exploration of images in the iMaterialist(Furniture) [Dataset](https://www.kaggle.com/c/imaterialist-challenge-furniture-2018)\n",
    "\n",
    "About the competition-\n",
    "<br>\n",
    "<br>\n",
    "As shoppers move online, it’d be a dream come true to have products in photos classified automatically. But, automatic product recognition is challenging because for the same product, a picture can be taken in different lighting, angles, backgrounds, and levels of occlusion. Meanwhile different fine-grained categories may look very similar, for example, ball chair vs egg chair for furniture, or dutch oven vs french oven for cookware. Many of today’s general-purpose recognition machines simply can’t perceive such subtle differences between photos, yet these differences could be important for shopping decisions.<br>\n",
    "Tackling issues like this is why the Conference on Computer Vision and Pattern Recognition (CVPR) has put together a workshop specifically for data scientists focused on fine-grained visual categorization called the FGVC5 workshop. As part of this workshop, CVPR is partnering with Google, Malong Technologies and Wish to challenge the data science community to help push the state of the art in automatic image classification.<br>\n",
    "\n",
    "In this competition, FGVC5 workshop organizers and Malong Technologies challenge you to develop algorithms that will help with an important step towards automatic product recognition – to accurately assign category labels for furniture and home goods images. Individuals/Teams with top submissions will be invited to present their work live at the FGVC5 workshop.\n",
    "\n",
    "## 1. Import Libraries\n",
    "\n",
    "Import the required libraries"
   ]
  },
  {
   "cell_type": "code",
   "execution_count": 2,
   "metadata": {
    "_cell_guid": "b1076dfc-b9ad-4769-8c92-a6c4dae69d19",
    "_uuid": "8f2839f25d086af736a60e9eeb907d3b93b6e0e5"
   },
   "outputs": [],
   "source": [
    "from IPython.core.display import HTML #To display the HTML representation of an object.\n",
    "from IPython.display import Image #To display the image within jupyter notebook\n",
    "import matplotlib.pyplot as plt #Function for cretating variety of charts and plots\n",
    "import seaborn as sns #high-level interface for data visualization\n",
    "import pandas as pd #library for data analysis and manupulation"
   ]
  },
  {
   "cell_type": "markdown",
   "metadata": {
    "_cell_guid": "352bdeea-521b-43c9-8c17-2c22f5eb6b60",
    "_uuid": "7e710a9b777c0484b9e9e2ba32132a37df33a643"
   },
   "source": [
    "## 2. Dataset Preparation\n",
    "\n",
    "The given dataset consists of json objects containings the image url links and its annotations. Lets simplify the dataset and convert it into a flat dataframe. "
   ]
  },
  {
   "cell_type": "code",
   "execution_count": 7,
   "metadata": {
    "_cell_guid": "79c7e3d0-c299-4dcb-8224-4455121ee9b0",
    "_uuid": "d629ff2d2480ee46fbb7e2d37f6b5fab8052498a"
   },
   "outputs": [
    {
     "data": {
      "text/html": [
       "<div>\n",
       "<style scoped>\n",
       "    .dataframe tbody tr th:only-of-type {\n",
       "        vertical-align: middle;\n",
       "    }\n",
       "\n",
       "    .dataframe tbody tr th {\n",
       "        vertical-align: top;\n",
       "    }\n",
       "\n",
       "    .dataframe thead th {\n",
       "        text-align: right;\n",
       "    }\n",
       "</style>\n",
       "<table border=\"1\" class=\"dataframe\">\n",
       "  <thead>\n",
       "    <tr style=\"text-align: right;\">\n",
       "      <th></th>\n",
       "      <th>image_id</th>\n",
       "      <th>label_id</th>\n",
       "      <th>url</th>\n",
       "    </tr>\n",
       "  </thead>\n",
       "  <tbody>\n",
       "    <tr>\n",
       "      <th>0</th>\n",
       "      <td>1</td>\n",
       "      <td>5</td>\n",
       "      <td>https://img13.360buyimg.com/imgzone/jfs/t2857/...</td>\n",
       "    </tr>\n",
       "    <tr>\n",
       "      <th>1</th>\n",
       "      <td>2</td>\n",
       "      <td>5</td>\n",
       "      <td>http://www.tengdakeli.cn/350/timg01/uploaded/i...</td>\n",
       "    </tr>\n",
       "    <tr>\n",
       "      <th>2</th>\n",
       "      <td>3</td>\n",
       "      <td>5</td>\n",
       "      <td>https://img13.360buyimg.com/imgzone/jfs/t8899/...</td>\n",
       "    </tr>\n",
       "    <tr>\n",
       "      <th>3</th>\n",
       "      <td>4</td>\n",
       "      <td>5</td>\n",
       "      <td>http://img4.tbcdn.cn/tfscom/i1/2855447419/TB2S...</td>\n",
       "    </tr>\n",
       "    <tr>\n",
       "      <th>4</th>\n",
       "      <td>5</td>\n",
       "      <td>5</td>\n",
       "      <td>http://a.vpimg4.com/upload/merchandise/287883/...</td>\n",
       "    </tr>\n",
       "    <tr>\n",
       "      <th>5</th>\n",
       "      <td>6</td>\n",
       "      <td>5</td>\n",
       "      <td>https://img.alicdn.com/imgextra/TB1HoBuHFXXXXX...</td>\n",
       "    </tr>\n",
       "    <tr>\n",
       "      <th>6</th>\n",
       "      <td>7</td>\n",
       "      <td>5</td>\n",
       "      <td>http://image.it168.com/n/640x480/6/6016/601653...</td>\n",
       "    </tr>\n",
       "    <tr>\n",
       "      <th>7</th>\n",
       "      <td>8</td>\n",
       "      <td>5</td>\n",
       "      <td>http://m.360buyimg.com/n12/jfs/t2161/78/174772...</td>\n",
       "    </tr>\n",
       "    <tr>\n",
       "      <th>8</th>\n",
       "      <td>9</td>\n",
       "      <td>5</td>\n",
       "      <td>http://dimg.cnlist.org/image/upload/68/3f/c1/9...</td>\n",
       "    </tr>\n",
       "    <tr>\n",
       "      <th>9</th>\n",
       "      <td>10</td>\n",
       "      <td>5</td>\n",
       "      <td>http://bpic.588ku.com/element_pic/17/11/10/75e...</td>\n",
       "    </tr>\n",
       "  </tbody>\n",
       "</table>\n",
       "</div>"
      ],
      "text/plain": [
       "   image_id  label_id                                                url\n",
       "0         1         5  https://img13.360buyimg.com/imgzone/jfs/t2857/...\n",
       "1         2         5  http://www.tengdakeli.cn/350/timg01/uploaded/i...\n",
       "2         3         5  https://img13.360buyimg.com/imgzone/jfs/t8899/...\n",
       "3         4         5  http://img4.tbcdn.cn/tfscom/i1/2855447419/TB2S...\n",
       "4         5         5  http://a.vpimg4.com/upload/merchandise/287883/...\n",
       "5         6         5  https://img.alicdn.com/imgextra/TB1HoBuHFXXXXX...\n",
       "6         7         5  http://image.it168.com/n/640x480/6/6016/601653...\n",
       "7         8         5  http://m.360buyimg.com/n12/jfs/t2161/78/174772...\n",
       "8         9         5  http://dimg.cnlist.org/image/upload/68/3f/c1/9...\n",
       "9        10         5  http://bpic.588ku.com/element_pic/17/11/10/75e..."
      ]
     },
     "execution_count": 7,
     "metadata": {},
     "output_type": "execute_result"
    }
   ],
   "source": [
    "# read the dataset \n",
    "#train = pd.read_json('../input/train.json')\n",
    "#test = pd.read_json('../input/test.json')\n",
    "#val = pd.read_json('../input/validation.json')\n",
    "\n",
    "train = pd.read_json('train.json') #reading training dataset which is of json format\n",
    "test = pd.read_json('test.json') #reading test dataset \n",
    "val = pd.read_json('validation.json') #reading validation dataset\n",
    "\n",
    "# function for creating a column named image_id and label_id by extracting the image and label ids from annotation column\n",
    "\n",
    "def format_dataset(df):\n",
    "    df['image_id'] = df.annotations.map(lambda x: x['image_id'])\n",
    "    df['label_id'] = df.annotations.map(lambda x: x['label_id'])\n",
    "    df['url'] = df.images.map(lambda x: x['url'][0])\n",
    "    df.drop(columns=['annotations', 'images'], inplace=True)\n",
    "\n",
    "format_dataset(train)\n",
    "format_dataset(val)\n",
    "\n",
    "# view the dataset snapshot\n",
    "train.head(10)"
   ]
  },
  {
   "cell_type": "markdown",
   "metadata": {
    "_cell_guid": "919391a3-f718-4c80-9ac6-c4dab6fe751c",
    "_uuid": "df2fd3f4ca761eb71672cf720cc8e0e0623b74d0"
   },
   "source": [
    "## 3. What is the distribution of labels in the Train Dataset"
   ]
  },
  {
   "cell_type": "code",
   "execution_count": 8,
   "metadata": {
    "_cell_guid": "cdd6a55a-b35c-48d1-bd06-18c931d0d117",
    "_uuid": "7150236aa07bc8e06f9f837fdcc86170567b0370"
   },
   "outputs": [
    {
     "data": {
      "image/png": "[encoded data removed]",
      "text/plain": [
       "<Figure size 1080x576 with 1 Axes>"
      ]
     },
     "metadata": {
      "needs_background": "light"
     },
     "output_type": "display_data"
    }
   ],
   "source": [
    "#plotting a distribution plot from seaborn library to see the distribution of the label id\n",
    "plt.figure(figsize = (15, 8))\n",
    "plt.title('Distribuition of different labels in the train dataset')\n",
    "sns.distplot(train['label_id'], color=\"red\", kde=False);"
   ]
  },
  {
   "cell_type": "markdown",
   "metadata": {
    "_uuid": "3c710193281a2cfb2b6c0f12012e51c28451d03b"
   },
   "source": [
    "## 4. Top 20 Labels of the dataset "
   ]
  },
  {
   "cell_type": "code",
   "execution_count": 9,
   "metadata": {
    "_cell_guid": "a581c412-497c-46ee-a613-3a310a554399",
    "_uuid": "55ecfd7a40e263d3f311df14cf3d4581e7846f4c"
   },
   "outputs": [
    {
     "data": {
      "image/png": "[encoded data removed]",
      "text/plain": [
       "<Figure size 1080x576 with 1 Axes>"
      ]
     },
     "metadata": {
      "needs_background": "light"
     },
     "output_type": "display_data"
    }
   ],
   "source": [
    "label_df = train.label_id.value_counts().reset_index() #count the number of occurrences of each label in a dataset \n",
    "label_df['index'] = label_df['index'].astype(str) #converting the index column into string type\n",
    "\n",
    "#plotting the first 20 elements as a bar plot with index as x axis and label id as y axis\n",
    "plt.figure(figsize=(15,8));\n",
    "sns.barplot(x=label_df['index'][:20], y=label_df['label_id'][:20], palette=\"Reds_d\"); "
   ]
  },
  {
   "cell_type": "markdown",
   "metadata": {
    "_cell_guid": "5c043816-d5b5-4501-81fe-125a4d55e458",
    "_uuid": "e888303d477d978c0aa3921df473990c6e3e0cd4"
   },
   "source": [
    "> - Label 20 and Label 42 are the most frequent labels present in the dataset\n",
    "\n",
    "## 5. Images corresponding to each label "
   ]
  },
  {
   "cell_type": "code",
   "execution_count": 10,
   "metadata": {
    "_cell_guid": "238ce638-6055-4a58-a5e0-b3e0f37735e4",
    "_uuid": "cd8b5ba810b38453ccc1a3fc225affed67f85e42"
   },
   "outputs": [
    {
     "data": {
      "text/html": [
       "<h3>Images related to Label: 20 (Total Images: 3996)</h3><br><img style='width: 180px; height:180px; margin: 0px; float: left; border: 1px solid #222;' src='https://img14.360buyimg.com/imgzone/jfs/t2320/137/487468866/439466/bb0f64ce/561208eaNe5fce09d.jpg' /><img style='width: 180px; height:180px; margin: 0px; float: left; border: 1px solid #222;' src='https://img.alicdn.com/imgextra/TB2T5NXXZrHK1JjSspfXXbsrXXa_!!2883544422.jpg' /><img style='width: 180px; height:180px; margin: 0px; float: left; border: 1px solid #222;' src='https://img.alicdn.com/imgextra/TB2Z6MdlmFjpuFjSszhXXaBuVXa_!!122480776.jpg' /><img style='width: 180px; height:180px; margin: 0px; float: left; border: 1px solid #222;' src='http://img001.hc360.cn/y1/M04/43/44/wKhQc1SxR0iEYPOJAAAAAEb2BFc516.jpg' /><br><br><br>"
      ],
      "text/plain": [
       "<IPython.core.display.HTML object>"
      ]
     },
     "metadata": {},
     "output_type": "display_data"
    },
    {
     "data": {
      "text/html": [
       "<h3>Images related to Label: 42 (Total Images: 3973)</h3><br><img style='width: 180px; height:180px; margin: 0px; float: left; border: 1px solid #222;' src='http://k.zol-img.com.cn/diybbs/6080/a6079920.jpg' /><img style='width: 180px; height:180px; margin: 0px; float: left; border: 1px solid #222;' src='https://img.alicdn.com/imgextra/TB2tchGtXXXXXaYXpXXXXXXXXXX_!!1069420075.jpg' /><img style='width: 180px; height:180px; margin: 0px; float: left; border: 1px solid #222;' src='https://img.alicdn.com/imgextra/TB2A5F5kJfJ8KJjy0FeXXXKEXXa_!!3170238810.jpg' /><img style='width: 180px; height:180px; margin: 0px; float: left; border: 1px solid #222;' src='http://pic.92to.com/365aw/201609/24/561f5dee97af6.jpg' /><br><br><br>"
      ],
      "text/plain": [
       "<IPython.core.display.HTML object>"
      ]
     },
     "metadata": {},
     "output_type": "display_data"
    },
    {
     "data": {
      "text/html": [
       "<h3>Images related to Label: 92 (Total Images: 2666)</h3><br><img style='width: 180px; height:180px; margin: 0px; float: left; border: 1px solid #222;' src='https://img.alicdn.com/imgextra/TB2VGxwd3vD8KJjy0FlXXagBFXa_!!2529740865.jpg' /><img style='width: 180px; height:180px; margin: 0px; float: left; border: 1px solid #222;' src='http://tgi1.jia.com/115/973/15973411.jpg' /><img style='width: 180px; height:180px; margin: 0px; float: left; border: 1px solid #222;' src='https://img12.360buyimg.com/imgzone/jfs/t7936/355/439137804/127898/35b471c3/5992a3a2N63c51428.jpg' /><img style='width: 180px; height:180px; margin: 0px; float: left; border: 1px solid #222;' src='http://p.zhuna.cn/uppic/temupload/14579/x_20120302201334315.jpg' /><br><br><br>"
      ],
      "text/plain": [
       "<IPython.core.display.HTML object>"
      ]
     },
     "metadata": {},
     "output_type": "display_data"
    },
    {
     "data": {
      "text/html": [
       "<h3>Images related to Label: 12 (Total Images: 2609)</h3><br><img style='width: 180px; height:180px; margin: 0px; float: left; border: 1px solid #222;' src='https://img11.360buyimg.com/imgzone/jfs/t5119/73/1946159194/182429/9e2c2f9e/591674d9N548522ca.jpg' /><img style='width: 180px; height:180px; margin: 0px; float: left; border: 1px solid #222;' src='http://img2.nuandaoimg.com/Public/images/uploads/product/20140530/5388222bbd2cf.jpg' /><img style='width: 180px; height:180px; margin: 0px; float: left; border: 1px solid #222;' src='https://img12.360buyimg.com/imgzone/jfs/t745/340/825685241/172361/5c659ff9/54f8fbc0N9ecf5ac3.jpg' /><img style='width: 180px; height:180px; margin: 0px; float: left; border: 1px solid #222;' src='https://img.alicdn.com/imgextra/TB2kcsib3fH8KJjy1zcXXcTzpXa_!!1068847237.jpg' /><br><br><br>"
      ],
      "text/plain": [
       "<IPython.core.display.HTML object>"
      ]
     },
     "metadata": {},
     "output_type": "display_data"
    },
    {
     "data": {
      "text/html": [
       "<h3>Images related to Label: 125 (Total Images: 2598)</h3><br><img style='width: 180px; height:180px; margin: 0px; float: left; border: 1px solid #222;' src='https://img13.360buyimg.com/imgzone/jfs/t3439/263/728869669/71540/eca6cade/5811bb8aN791655b1.jpg' /><img style='width: 180px; height:180px; margin: 0px; float: left; border: 1px solid #222;' src='http://image.pe168.com/37/29/372949507.jpg' /><img style='width: 180px; height:180px; margin: 0px; float: left; border: 1px solid #222;' src='https://img11.360buyimg.com/imgzone/jfs/t8095/350/775064757/749830/48f70235/59aed405Nd2068b37.jpg' /><img style='width: 180px; height:180px; margin: 0px; float: left; border: 1px solid #222;' src='http://imgsrc.baidu.com/imgad/pic/item/9f510fb30f2442a7ca09028fda43ad4bd1130290.jpg' /><br><br><br>"
      ],
      "text/plain": [
       "<IPython.core.display.HTML object>"
      ]
     },
     "metadata": {},
     "output_type": "display_data"
    },
    {
     "data": {
      "text/html": [
       "<h3>Images related to Label: 21 (Total Images: 2577)</h3><br><img style='width: 180px; height:180px; margin: 0px; float: left; border: 1px solid #222;' src='http://wx4.sinaimg.cn/mw690/006boOKDgy1fjggzqwijlj30j60j640w.jpg' /><img style='width: 180px; height:180px; margin: 0px; float: left; border: 1px solid #222;' src='http://static.house.sina.com.cn/jiancaijiaju/product_new/17/31/14302063471843210-1.jpg' /><img style='width: 180px; height:180px; margin: 0px; float: left; border: 1px solid #222;' src='https://img13.360buyimg.com/imgzone/jfs/t13636/75/2163334876/82882/fa9c3cc5/5a382324N4eac1e45.jpg' /><img style='width: 180px; height:180px; margin: 0px; float: left; border: 1px solid #222;' src='http://att2.citysbs.com/tiaozao/2017/04/06/12/3264x2448-121839_v2_16381491452319498_a4c184cf330a5853c70603fd79061a72.jpg' /><br><br><br>"
      ],
      "text/plain": [
       "<IPython.core.display.HTML object>"
      ]
     },
     "metadata": {},
     "output_type": "display_data"
    },
    {
     "data": {
      "text/html": [
       "<h3>Images related to Label: 122 (Total Images: 2462)</h3><br><img style='width: 180px; height:180px; margin: 0px; float: left; border: 1px solid #222;' src='https://static1.paizi.com/uploadfile/2017/1013/20171013053252466.jpg' /><img style='width: 180px; height:180px; margin: 0px; float: left; border: 1px solid #222;' src='http://image.guojj.com/exhibition/28/15/3c1c4defef8bf2cfc68f62bc5f5c20a3.jpg' /><img style='width: 180px; height:180px; margin: 0px; float: left; border: 1px solid #222;' src='https://img12.360buyimg.com/imgzone/jfs/t6724/85/1934896918/462676/1db1f35b/5959c359N4301c26d.jpg' /><img style='width: 180px; height:180px; margin: 0px; float: left; border: 1px solid #222;' src='https://gw.alicdn.com/bao/uploaded/i2/T1fNesFiJeXXXXXXXX_!!0-item_pic.jpg_460x460xz.jpg' /><br><br><br>"
      ],
      "text/plain": [
       "<IPython.core.display.HTML object>"
      ]
     },
     "metadata": {},
     "output_type": "display_data"
    },
    {
     "data": {
      "text/html": [
       "<h3>Images related to Label: 3 (Total Images: 2368)</h3><br><img style='width: 180px; height:180px; margin: 0px; float: left; border: 1px solid #222;' src='https://img.alicdn.com/imgextra/TB2T9B3Xg1J.eBjy0FaXXaXeVXa_!!1945434197.jpg' /><img style='width: 180px; height:180px; margin: 0px; float: left; border: 1px solid #222;' src='https://img.alicdn.com/imgextra/TB2t_5EkVXXXXb7XXXXXXXXXXXX_!!661894569.jpg' /><img style='width: 180px; height:180px; margin: 0px; float: left; border: 1px solid #222;' src='https://img13.360buyimg.com/imgzone/jfs/t5440/70/2300198880/84800/9af435d9/59196fedN6658bd63.jpg' /><img style='width: 180px; height:180px; margin: 0px; float: left; border: 1px solid #222;' src='https://img.alicdn.com/imgextra/TB2_ZUGbfOM.eBjSZFqXXculVXa_!!1100252939.jpg' /><br><br><br>"
      ],
      "text/plain": [
       "<IPython.core.display.HTML object>"
      ]
     },
     "metadata": {},
     "output_type": "display_data"
    },
    {
     "data": {
      "text/html": [
       "<h3>Images related to Label: 89 (Total Images: 2353)</h3><br><img style='width: 180px; height:180px; margin: 0px; float: left; border: 1px solid #222;' src='https://img14.360buyimg.com/imgzone/jfs/t175/247/2029997415/239022/6e87243d/53c0fa8eN843d8932.jpg' /><img style='width: 180px; height:180px; margin: 0px; float: left; border: 1px solid #222;' src='https://img14.360buyimg.com/imgzone/jfs/t2644/92/2282517029/423704/1d3654bb/576218e5N21f48d30.jpg' /><img style='width: 180px; height:180px; margin: 0px; float: left; border: 1px solid #222;' src='https://img11.360buyimg.com/imgzone/jfs/t3058/79/5158187990/97712/1a08ffce/5864bd20Na66ff893.jpg' /><img style='width: 180px; height:180px; margin: 0px; float: left; border: 1px solid #222;' src='http://www.szonwing.com/UploadFiles/FCK/2015-04/20150403FTLXN6HPT0.jpg' /><br><br><br>"
      ],
      "text/plain": [
       "<IPython.core.display.HTML object>"
      ]
     },
     "metadata": {},
     "output_type": "display_data"
    },
    {
     "data": {
      "text/html": [
       "<h3>Images related to Label: 93 (Total Images: 2350)</h3><br><img style='width: 180px; height:180px; margin: 0px; float: left; border: 1px solid #222;' src='http://www.bvh.cc/images/200912/goods_img/547_P_1260577161314.jpg' /><img style='width: 180px; height:180px; margin: 0px; float: left; border: 1px solid #222;' src='https://img13.360buyimg.com/imgzone/jfs/t3598/122/705099854/937165/837c972b/5811ae4dN06a9b194.jpg' /><img style='width: 180px; height:180px; margin: 0px; float: left; border: 1px solid #222;' src='http://f.3dxy.com/sub/Manual/pic/2016/0407/08/1604070812_17370_2000x_1.jpg' /><img style='width: 180px; height:180px; margin: 0px; float: left; border: 1px solid #222;' src='http://upload.qianhuaweb.com/2017/0531/1496211776708.jpg' /><br><br><br>"
      ],
      "text/plain": [
       "<IPython.core.display.HTML object>"
      ]
     },
     "metadata": {},
     "output_type": "display_data"
    },
    {
     "data": {
      "text/html": [
       "<h3>Images related to Label: 38 (Total Images: 2317)</h3><br><img style='width: 180px; height:180px; margin: 0px; float: left; border: 1px solid #222;' src='https://www.uooyoo.com/img2017/9/26/2017092663144657.jpg' /><img style='width: 180px; height:180px; margin: 0px; float: left; border: 1px solid #222;' src='https://img.alicdn.com/imgextra/TB2VUsNjvNNTKJjSspkXXaeWFXa_!!703468060.jpg' /><img style='width: 180px; height:180px; margin: 0px; float: left; border: 1px solid #222;' src='https://img13.360buyimg.com/imgzone/jfs/t2722/243/3701690876/560524/a6c2a8c3/5796f022N1a9f91fe.jpg' /><img style='width: 180px; height:180px; margin: 0px; float: left; border: 1px solid #222;' src='http://i2.hoopchina.com.cn/blogfile/201112/05/132308891766004.jpg' /><br><br><br>"
      ],
      "text/plain": [
       "<IPython.core.display.HTML object>"
      ]
     },
     "metadata": {},
     "output_type": "display_data"
    }
   ],
   "source": [
    "# function to create images \n",
    "def display_urls(url_list, label, vals):\n",
    "    #defining the width, height and margin of the images\n",
    "    img_style = \"width: 180px; height:180px; margin: 0px; float: left; border: 1px solid #222;\"  \n",
    "    #The list of HTML tags is joined into a single string using the join method.\n",
    "    images_list = ''.join([f\"<img style='{img_style}' src='{u}' />\" for _, u in url_list.iteritems()])\n",
    "    html = \"<h3>Images related to Label: \" + str(label) + \" (Total Images: \" + str(vals) + \")</h3><br>\" + images_list + \"<br><br><br>\"\n",
    "    display(HTML(html)) #displaying HTML string \n",
    "\n",
    "#looping through label_df and retriving thr top 4 URLs with each label in the train dataframe\n",
    "val_list = list(label_df['label_id'])\n",
    "for i, label in enumerate(label_df['index']):    \n",
    "    url_list = train[train['label_id'] == int(label)].url.head(4) #if the label id in train column matches the index of labrl df then the value is stored in the variable url_list\n",
    "    display_urls(url_list, label, val_list[i]) #displaying the images with their labels\n",
    "    if i == 10:\n",
    "        break"
   ]
  },
  {
   "cell_type": "markdown",
   "metadata": {
    "_cell_guid": "e7858943-222a-4319-99fa-34d0b9620957",
    "_uuid": "27e9e2ca310b3bfda7c5e64078dac05ebd1789e8",
    "collapsed": true
   },
   "source": [
    "## 6. Probable Objects predicted from object detection\n",
    "\n",
    "I used an ensemble of pre-trained ImageNet and TensorFlow Object Detection API models to detect the objects present in the images. More details are given in my [iMaterialist Fashion Kernel](https://www.kaggle.com/shivamb/imaterialist-fashion-eda-object-detection-colors)."
   ]
  },
  {
   "cell_type": "code",
   "execution_count": 11,
   "metadata": {
    "_kg_hide-input": true,
    "_uuid": "dadc8ca214c985d1c55264288b6087f8d92c7d27"
   },
   "outputs": [
    {
     "data": {
      "text/html": [
       "<div style='margin-left:100px'><h3>Label: 20</h3><br><img src='https://img14.360buyimg.com/imgzone/jfs/t2320/137/487468866/439466/bb0f64ce/561208eaNe5fce09d.jpg' width=200 height=200></div>"
      ],
      "text/plain": [
       "<IPython.core.display.HTML object>"
      ]
     },
     "metadata": {},
     "output_type": "display_data"
    },
    {
     "data": {
      "image/png": "[encoded data removed]",
      "text/plain": [
       "<Figure size 432x288 with 1 Axes>"
      ]
     },
     "metadata": {
      "needs_background": "light"
     },
     "output_type": "display_data"
    }
   ],
   "source": [
    "# results variable is a dictionary that contains information about different images. \n",
    "#The keys of the dictionary are integers that represent the indices of the labels in label_df. \n",
    "#Each value in the dictionary is itself a dictionary that contains information about a particular image.\n",
    "results = {'12': {'url': u'https://img11.360buyimg.com/imgzone/jfs/t5119/73/1946159194/182429/9e2c2f9e/591674d9N548522ca.jpg', 'index': [u'table lamp', u'lamp', u'furniture', u'source of illumination', u'light brown color'], 'values': [0.909, 0.957, 0.957, 0.799, 0.846]}, '20': {'url': u'https://img14.360buyimg.com/imgzone/jfs/t2320/137/487468866/439466/bb0f64ce/561208eaNe5fce09d.jpg', 'index': [u'beverage', u'food', u'lager beer', u'beer', u'brew', u'alcoholic beverage', u'bottle green color'], 'values': [0.954, 0.954, 0.755, 0.776, 0.781, 0.783, 1]}, '21': {'url': u'http://wx4.sinaimg.cn/mw690/006boOKDgy1fjggzqwijlj30j60j640w.jpg', 'index': [u'sectional furniture', u'furniture', u'indoors', u'sage green color'], 'values': [0.888, 0.97, 0.783, 0.92]}, '38': {'url': u'https://www.uooyoo.com/img2017/9/26/2017092663144657.jpg', 'index': [u'fabric', u'sage green color'], 'values': [0.819, 0.902]}, '42': {'url': u'http://k.zol-img.com.cn/diybbs/6080/a6079920.jpg', 'index': [u'desk', u'table', u'furniture', u'computer', u'microscope', u'sage green color'], 'values': [0.914, 0.914, 0.914, 0.799, 0.789, 0.915]}, '3': {'url': u'https://img.alicdn.com/imgextra/TB2T9B3Xg1J.eBjy0FaXXaXeVXa_!!1945434197.jpg', 'index': [u'arm', u'support', u'armchair', u'chair', u'seat', u'furniture', u'coal black color'], 'values': [0.867, 0.921, 0.759, 0.847, 0.854, 0.854, 0.929]}, '122': {'url': u'https://static1.paizi.com/uploadfile/2017/1013/20171013053252466.jpg', 'index': [u'gray color'], 'values': [0.761]}, '89': {'url': u'https://img14.360buyimg.com/imgzone/jfs/t175/247/2029997415/239022/6e87243d/53c0fa8eN843d8932.jpg', 'index': [u'crown jewels', u'holding device', u'headdress', u'alabaster color', u'ivory color'], 'values': [0.812, 0.786, 0.801, 0.934, 0.814]}, '125': {'url': u'https://img13.360buyimg.com/imgzone/jfs/t3439/263/728869669/71540/eca6cade/5811bb8aN791655b1.jpg', 'index': [u'cup', u'drinking vessel', u'coal black color'], 'values': [0.864, 0.809, 0.953]}, '93': {'url': u'http://www.bvh.cc/images/200912/goods_img/547_P_1260577161314.jpg', 'index': [u'floor lamp', u'lamp', u'furniture'], 'values': [0.992, 0.994, 0.994]}, '92': {'url': u'https://img.alicdn.com/imgextra/TB2VGxwd3vD8KJjy0FlXXagBFXa_!!2529740865.jpg', 'index': [u'percale (fabric)', u'fabric', u'claret red color'], 'values': [0.8, 0.8, 0.942]}}\n",
    "\n",
    "l = label_df['index'] #saving the index of the label_df as l\n",
    "x = l[0] #taking x as the first element in l\n",
    "y = results[x] #x is assigned to the values in result\n",
    "#since results is the dictionary containing the results of some processing, \n",
    "#where each key is a label and each value is a dictionary with information about the label (including its index), this code is selecting the information about the first label in label_df\n",
    "\n",
    "display(HTML(\"<div style='margin-left:100px'><h3>Label: \"+x+\"</h3><br><img src='\"+y['url']+\"' width=200 height=200></div>\"))#displaying the image with label\n",
    "sns.barplot(y=y['index'], x=y['values']); #display the index and values as barplot"
   ]
  },
  {
   "cell_type": "code",
   "execution_count": 12,
   "metadata": {
    "_kg_hide-input": true,
    "_uuid": "ab4a53dac5ff4380b0ab9176cfbe31c97023230f"
   },
   "outputs": [
    {
     "data": {
      "text/html": [
       "<div style='margin-left:100px'><h3>Label: 42</h3><br><img src='http://k.zol-img.com.cn/diybbs/6080/a6079920.jpg' width=200 height=200></div>"
      ],
      "text/plain": [
       "<IPython.core.display.HTML object>"
      ]
     },
     "metadata": {},
     "output_type": "display_data"
    },
    {
     "data": {
      "image/png": "[encoded data removed]",
      "text/plain": [
       "<Figure size 432x288 with 1 Axes>"
      ]
     },
     "metadata": {
      "needs_background": "light"
     },
     "output_type": "display_data"
    }
   ],
   "source": [
    "x = l[1] #taking x as the second element in l\n",
    "y = results[x] #x is assigned to the values in result\n",
    "display(HTML(\"<div style='margin-left:100px'><h3>Label: \"+x+\"</h3><br><img src='\"+y['url']+\"' width=200 height=200></div>\"))#displaying the image with label\n",
    "sns.barplot(y=y['index'], x=y['values']);#display the index and values as barplot"
   ]
  },
  {
   "cell_type": "code",
   "execution_count": 13,
   "metadata": {
    "_kg_hide-input": true,
    "_uuid": "8129cf81b889e3c618238cacc527f34b89afe90e"
   },
   "outputs": [
    {
     "data": {
      "text/html": [
       "<div style='margin-left:100px'><h3>Label: 12</h3><br><img src='https://img11.360buyimg.com/imgzone/jfs/t5119/73/1946159194/182429/9e2c2f9e/591674d9N548522ca.jpg' width=200 height=200></div>"
      ],
      "text/plain": [
       "<IPython.core.display.HTML object>"
      ]
     },
     "metadata": {},
     "output_type": "display_data"
    },
    {
     "data": {
      "image/png": "[encoded data removed]",
      "text/plain": [
       "<Figure size 432x288 with 1 Axes>"
      ]
     },
     "metadata": {
      "needs_background": "light"
     },
     "output_type": "display_data"
    }
   ],
   "source": [
    "x = l[3] #taking x as the fourth element in l\n",
    "y = results[x] #x is assigned to the values in result\n",
    "display(HTML(\"<div style='margin-left:100px'><h3>Label: \"+x+\"</h3><br><img src='\"+y['url']+\"' width=200 height=200></div>\"))#displaying the image with label\n",
    "sns.barplot(y=y['index'], x=y['values']);#display the index and values as barplot"
   ]
  },
  {
   "cell_type": "code",
   "execution_count": 14,
   "metadata": {
    "_kg_hide-input": true,
    "_uuid": "1de7687e41dfa20a88999038834369d2517c2c3a"
   },
   "outputs": [
    {
     "data": {
      "text/html": [
       "<div style='margin-left:100px'><h3>Label: 125</h3><br><img src='https://img13.360buyimg.com/imgzone/jfs/t3439/263/728869669/71540/eca6cade/5811bb8aN791655b1.jpg' width=200 height=200></div>"
      ],
      "text/plain": [
       "<IPython.core.display.HTML object>"
      ]
     },
     "metadata": {},
     "output_type": "display_data"
    },
    {
     "data": {
      "image/png": "[encoded data removed]",
      "text/plain": [
       "<Figure size 432x288 with 1 Axes>"
      ]
     },
     "metadata": {
      "needs_background": "light"
     },
     "output_type": "display_data"
    }
   ],
   "source": [
    "x = l[4] #taking x as the fifth element in l\n",
    "y = results[x] #x is assigned to the values in result\n",
    "display(HTML(\"<div style='margin-left:100px'><h3>Label: \"+x+\"</h3><br><img src='\"+y['url']+\"' width=200 height=200></div>\"))#displaying the image with label\n",
    "sns.barplot(y=y['index'], x=y['values']);#display the index and values as barplot"
   ]
  },
  {
   "cell_type": "code",
   "execution_count": 15,
   "metadata": {
    "_kg_hide-input": true,
    "_uuid": "4c7019946207f5699865cf6f5edc592e93b223ec"
   },
   "outputs": [
    {
     "data": {
      "text/html": [
       "<div style='margin-left:100px'><h3>Label: 21</h3><br><img src='http://wx4.sinaimg.cn/mw690/006boOKDgy1fjggzqwijlj30j60j640w.jpg' width=200 height=200></div>"
      ],
      "text/plain": [
       "<IPython.core.display.HTML object>"
      ]
     },
     "metadata": {},
     "output_type": "display_data"
    },
    {
     "data": {
      "image/png": "[encoded data removed]",
      "text/plain": [
       "<Figure size 432x288 with 1 Axes>"
      ]
     },
     "metadata": {
      "needs_background": "light"
     },
     "output_type": "display_data"
    }
   ],
   "source": [
    "x = l[5] #taking x as the sixth element in l\n",
    "y = results[x] #x is assigned to the values in result\n",
    "display(HTML(\"<div style='margin-left:100px'><h3>Label: \"+x+\"</h3><br><img src='\"+y['url']+\"' width=200 height=200></div>\"))#displaying the image with label\n",
    "sns.barplot(y=y['index'], x=y['values']);#display the index and values as barplot"
   ]
  },
  {
   "cell_type": "code",
   "execution_count": 16,
   "metadata": {
    "_kg_hide-input": true,
    "_uuid": "00d4da1da4decc319f07a07df1513627a4df86f2"
   },
   "outputs": [
    {
     "data": {
      "text/html": [
       "<div style='margin-left:100px'><h3>Label: 3</h3><br><img src='https://img.alicdn.com/imgextra/TB2T9B3Xg1J.eBjy0FaXXaXeVXa_!!1945434197.jpg' width=200 height=200></div>"
      ],
      "text/plain": [
       "<IPython.core.display.HTML object>"
      ]
     },
     "metadata": {},
     "output_type": "display_data"
    },
    {
     "data": {
      "image/png": "[encoded data removed]",
      "text/plain": [
       "<Figure size 432x288 with 1 Axes>"
      ]
     },
     "metadata": {
      "needs_background": "light"
     },
     "output_type": "display_data"
    }
   ],
   "source": [
    "x = l[7] #taking x as the eighth element in l\n",
    "y = results[x] #x is assigned to the values in result\n",
    "display(HTML(\"<div style='margin-left:100px'><h3>Label: \"+x+\"</h3><br><img src='\"+y['url']+\"' width=200 height=200></div>\"))#displaying the image with label\n",
    "sns.barplot(y=y['index'], x=y['values']);#display the index and values as barplot"
   ]
  },
  {
   "cell_type": "code",
   "execution_count": 17,
   "metadata": {
    "_kg_hide-input": true,
    "_uuid": "652d6535063ee3e1da46061ea09912ad10610899"
   },
   "outputs": [
    {
     "data": {
      "text/html": [
       "<div style='margin-left:100px'><h3>Label: 93</h3><br><img src='http://www.bvh.cc/images/200912/goods_img/547_P_1260577161314.jpg' width=200 height=200></div>"
      ],
      "text/plain": [
       "<IPython.core.display.HTML object>"
      ]
     },
     "metadata": {},
     "output_type": "display_data"
    },
    {
     "data": {
      "image/png": "[encoded data removed]",
      "text/plain": [
       "<Figure size 432x288 with 1 Axes>"
      ]
     },
     "metadata": {
      "needs_background": "light"
     },
     "output_type": "display_data"
    }
   ],
   "source": [
    "x = l[9] #taking x as the tenth element in l\n",
    "y = results[x]#x is assigned to the values in result\n",
    "display(HTML(\"<div style='margin-left:100px'><h3>Label: \"+x+\"</h3><br><img src='\"+y['url']+\"' width=200 height=200></div>\"))#displaying the image with label\n",
    "sns.barplot(y=y['index'], x=y['values']);#display the index and values as barplot"
   ]
  },
  {
   "cell_type": "markdown",
   "metadata": {
    "_uuid": "9e6ac89354c1d5b04574d85ccc127bf427c3f42a"
   },
   "source": [
    "Thanks for viewing the notebook."
   ]
  }
 ],
 "metadata": {
  "kernelspec": {
   "display_name": "Python 3",
   "language": "python",
   "name": "python3"
  },
  "language_info": {
   "codemirror_mode": {
    "name": "ipython",
    "version": 3
   },
   "file_extension": ".py",
   "mimetype": "text/x-python",
   "name": "python",
   "nbconvert_exporter": "python",
   "pygments_lexer": "ipython3",
   "version": "3.7.6"
  }
 },
 "nbformat": 4,
 "nbformat_minor": 1
}
